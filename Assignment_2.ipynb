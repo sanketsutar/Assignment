{
 "cells": [
  {
   "cell_type": "code",
   "execution_count": 1,
   "id": "3a8d9a37",
   "metadata": {},
   "outputs": [],
   "source": [
    "#Q.1-> True And False are the two values of boolean"
   ]
  },
  {
   "cell_type": "code",
   "execution_count": 2,
   "id": "b5509419",
   "metadata": {},
   "outputs": [],
   "source": [
    "#Q.2->What are the three different types of Boolean operators?\n",
    "#logical and &&\n",
    "#logical or  ||\n",
    "#not equal to !"
   ]
  },
  {
   "cell_type": "code",
   "execution_count": 3,
   "id": "51e3076d",
   "metadata": {},
   "outputs": [],
   "source": [
    "#Q.3->Make a list of each Boolean operator's truth tables "
   ]
  },
  {
   "cell_type": "code",
   "execution_count": 6,
   "id": "130cc73c",
   "metadata": {},
   "outputs": [],
   "source": [
    "# AND Operator\n",
    "# A\tB\tQ\n",
    "# 0\t0\t0\n",
    "# 0\t1\t0\n",
    "# 1\t0\t0\n",
    "# 1\t1\t1\n",
    "\n",
    "# OR Operator\n",
    "# A\tB\tQ\n",
    "# 0\t0\t0\n",
    "# 0\t1\t1\n",
    "# 1\t0\t1\n",
    "# 1\t1\t1\n",
    "\n",
    "# NOT Operator\n",
    "# A\tB\n",
    "# 0\t1\n",
    "# 1\t0"
   ]
  },
  {
   "cell_type": "code",
   "execution_count": 7,
   "id": "71980065",
   "metadata": {},
   "outputs": [],
   "source": [
    "# 4. What are the values of the following expressions?\n",
    "# (5 > 4) and (3 == 5)->FALSE\n",
    "# not (5 > 4)->False\n",
    "# (5 > 4) or (3 == 5)->True\n",
    "# not ((5 > 4) or (3 == 5))->False\n",
    "# (True and True) and (True == False)->False\n",
    "# (not False) or (not True)->True\n"
   ]
  },
  {
   "cell_type": "code",
   "execution_count": 8,
   "id": "351c1195",
   "metadata": {},
   "outputs": [],
   "source": [
    "#5. What are the six comparison operators\n",
    "#<,>,<=,>=,==,!"
   ]
  },
  {
   "cell_type": "code",
   "execution_count": 9,
   "id": "0cbe5ecf",
   "metadata": {},
   "outputs": [],
   "source": [
    "#6. What are the six comparison operators\n",
    "#= Variable assignment operator is used to assign value to variable\n",
    "#== used to compare LHS and RHS value"
   ]
  },
  {
   "cell_type": "code",
   "execution_count": 10,
   "id": "ddb509c0",
   "metadata": {},
   "outputs": [
    {
     "name": "stdout",
     "output_type": "stream",
     "text": [
      "ham\n",
      "spam\n",
      "spam\n"
     ]
    }
   ],
   "source": [
    "#7. Identify the three blocks in this code:\n",
    "spam = 0\n",
    "if spam == 10:\n",
    "    print('eggs')\n",
    "if spam > 5:\n",
    "    print('bacon')\n",
    "else:\n",
    "    print('ham')\n",
    "    print('spam')\n",
    "    print('spam')\n"
   ]
  },
  {
   "cell_type": "code",
   "execution_count": 11,
   "id": "e7db549e",
   "metadata": {},
   "outputs": [
    {
     "name": "stdout",
     "output_type": "stream",
     "text": [
      "Enter input1\n",
      "HELLO\n"
     ]
    }
   ],
   "source": [
    "#8. Write code that prints Hello if 1 is stored in spam, prints Howdy if 2 is stored in spam, \n",
    "#and prints Greetings! if anything else is stored in spam.\n",
    "spam=int(input(\"Enter input\"))\n",
    "if spam==1:\n",
    "    print(\"HELLO\")\n",
    "elif spam==2:\n",
    "    print(\"HOWDY\")\n",
    "else:\n",
    "    print(\"Greetings!\")\n",
    "    "
   ]
  },
  {
   "cell_type": "code",
   "execution_count": 13,
   "id": "7400c2db",
   "metadata": {},
   "outputs": [],
   "source": [
    "#9.If your programme is stuck in an endless loop, what keys you’ll press?\n",
    "#Cantrol+c, Break Statement\n"
   ]
  },
  {
   "cell_type": "code",
   "execution_count": 14,
   "id": "06f230f8",
   "metadata": {},
   "outputs": [],
   "source": [
    "#10.Break vs continue\n",
    "# Break keyword break the loop and execution comes outside loop\n",
    "# continue keyword skip current iteraction and go to next iteration"
   ]
  },
  {
   "cell_type": "code",
   "execution_count": 17,
   "id": "9c35bfc9",
   "metadata": {},
   "outputs": [
    {
     "name": "stdout",
     "output_type": "stream",
     "text": [
      "0\n",
      "1\n",
      "2\n",
      "3\n",
      "4\n",
      "5\n",
      "6\n",
      "7\n",
      "8\n",
      "9\n"
     ]
    }
   ],
   "source": [
    "#11. In a for loop, what is the difference between range(10), range(0, 10), and range(0, 10, 1)?\n",
    "#All three are same but written in different way"
   ]
  },
  {
   "cell_type": "code",
   "execution_count": 21,
   "id": "46ec1162",
   "metadata": {},
   "outputs": [
    {
     "name": "stdout",
     "output_type": "stream",
     "text": [
      "1\n",
      "2\n",
      "3\n",
      "4\n",
      "5\n",
      "6\n",
      "7\n",
      "8\n",
      "9\n",
      "10\n",
      "1\n",
      "2\n",
      "3\n",
      "4\n",
      "5\n",
      "6\n",
      "7\n",
      "8\n",
      "9\n",
      "10\n"
     ]
    }
   ],
   "source": [
    "# Write a short program that prints the numbers 1 to 10 using a for loop. \n",
    "# Then write an equivalent program that prints the numbers 1 to 10 using a while loop.\n",
    "for i in range(1,11):\n",
    "    print (i)\n",
    "#########################    \n",
    "i=0\n",
    "while(i<10):\n",
    "    i=i+1\n",
    "    print(i)"
   ]
  },
  {
   "cell_type": "code",
   "execution_count": null,
   "id": "4e25e774",
   "metadata": {},
   "outputs": [],
   "source": [
    "#13. If you had a function named bacon() inside a module named spam, how would you call it after importing spam?\n",
    "from spam import bacon"
   ]
  }
 ],
 "metadata": {
  "kernelspec": {
   "display_name": "Python 3 (ipykernel)",
   "language": "python",
   "name": "python3"
  },
  "language_info": {
   "codemirror_mode": {
    "name": "ipython",
    "version": 3
   },
   "file_extension": ".py",
   "mimetype": "text/x-python",
   "name": "python",
   "nbconvert_exporter": "python",
   "pygments_lexer": "ipython3",
   "version": "3.9.12"
  }
 },
 "nbformat": 4,
 "nbformat_minor": 5
}
