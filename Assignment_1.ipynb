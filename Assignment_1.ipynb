{
 "cells": [
  {
   "cell_type": "code",
   "execution_count": 12,
   "id": "675ad098",
   "metadata": {},
   "outputs": [
    {
     "data": {
      "text/plain": [
       "\"\\n* = Expression\\n'hello'=value\\n-87.8=value\\n- = Expression\\n/ = Expression\\n+ = Expression\\n6 =value\\n\""
      ]
     },
     "execution_count": 12,
     "metadata": {},
     "output_type": "execute_result"
    }
   ],
   "source": [
    "#Q1->\n",
    "\"\"\"\n",
    "* = Expression\n",
    "'hello'=value\n",
    "-87.8=value\n",
    "- = Expression\n",
    "/ = Expression\n",
    "+ = Expression\n",
    "6 =value\n",
    "\"\"\"\n"
   ]
  },
  {
   "cell_type": "code",
   "execution_count": 13,
   "id": "909d0ae3",
   "metadata": {},
   "outputs": [
    {
     "data": {
      "text/plain": [
       "'\\nWhat is the difference between string and variable?\\nString:string is data type(Immutable and iterable)\\n       string is data type\\n       every string is iterable but every variable are not\\n       eg. \"sanket\"\\n    \\nVariable: Vraiable is the container where we store data\\n          x=\"Sanket\"\\n'"
      ]
     },
     "execution_count": 13,
     "metadata": {},
     "output_type": "execute_result"
    }
   ],
   "source": [
    "#Q2->\n",
    "\"\"\"\n",
    "What is the difference between string and variable?\n",
    "String:string is data type(Immutable and iterable)\n",
    "       string is data type\n",
    "       every string is iterable but every variable are not\n",
    "       eg. \"sanket\"\n",
    "    \n",
    "Variable: Vraiable is the container where we store data\n",
    "          x=\"Sanket\"\n",
    "\"\"\"\n",
    "          "
   ]
  },
  {
   "cell_type": "code",
   "execution_count": 14,
   "id": "4729a9cb",
   "metadata": {},
   "outputs": [
    {
     "data": {
      "text/plain": [
       "'\\nint: store integer (eg, 1,2,3)\\nbool: store boolean (eg, True false)\\nstring: string is the collectoion of character (\"Sanket\")\\n\\n'"
      ]
     },
     "execution_count": 14,
     "metadata": {},
     "output_type": "execute_result"
    }
   ],
   "source": [
    "#Q3.Describe three different data types.\n",
    "\n",
    "\"\"\"\n",
    "int: store integer (eg, 1,2,3)\n",
    "bool: store boolean (eg, True false)\n",
    "string: string is the collectoion of character (\"Sanket\")\n",
    "\n",
    "\"\"\""
   ]
  },
  {
   "cell_type": "code",
   "execution_count": 15,
   "id": "da6ad28e",
   "metadata": {},
   "outputs": [],
   "source": [
    "#Q4\n",
    "# What is an expression made up of? What do all expressions do?\n",
    "# -->Expressions represent something, like a number, a string, or an instance of a class. Any value is an expression."
   ]
  },
  {
   "cell_type": "code",
   "execution_count": 7,
   "id": "84ef5188",
   "metadata": {},
   "outputs": [
    {
     "ename": "SyntaxError",
     "evalue": "invalid syntax (3807552781.py, line 1)",
     "output_type": "error",
     "traceback": [
      "\u001b[1;36m  Input \u001b[1;32mIn [7]\u001b[1;36m\u001b[0m\n\u001b[1;33m    Expressions represent something, like a number, a string, or an instance of a class. Any value is an expression!\u001b[0m\n\u001b[1;37m                ^\u001b[0m\n\u001b[1;31mSyntaxError\u001b[0m\u001b[1;31m:\u001b[0m invalid syntax\n"
     ]
    }
   ],
   "source": [
    "# Q5->\n",
    "# Expressions: Expressions represent something, like a number, a string, or an instance of a class. Any value is an expression.\n",
    "\n",
    "# statement:Anything that does some operation is a statement. Any assignment to a variable or function call is a statement. "
   ]
  },
  {
   "cell_type": "code",
   "execution_count": 8,
   "id": "137743a2",
   "metadata": {},
   "outputs": [],
   "source": [
    "# Q6.->\n",
    "# After running the following code, what does the variable bacon contain?\n",
    "# bacon = 22\n",
    "# bacon + 1\n",
    "# ->bacon=bacon+1\n",
    "# 23\n",
    "\n"
   ]
  },
  {
   "cell_type": "code",
   "execution_count": 9,
   "id": "4aaf5038",
   "metadata": {},
   "outputs": [],
   "source": [
    "# Q7. What should the values of the following two terms be?\n",
    "# 'spam' + 'spamspam'='spamspamspam'\n",
    "# 'spam' * 3='spamspamspam'\n"
   ]
  },
  {
   "cell_type": "code",
   "execution_count": 10,
   "id": "20314a1f",
   "metadata": {},
   "outputs": [],
   "source": [
    "# Q8. Why is eggs a valid variable name while 100 is invalid?\n",
    "# eggs is not a keyword also there is no void char and also not starting with num so therefore valid character \n",
    "# 100 is invalid because because number cant be variable name"
   ]
  },
  {
   "cell_type": "code",
   "execution_count": 11,
   "id": "8ef507c1",
   "metadata": {},
   "outputs": [],
   "source": [
    "# Q9. What three functions can be used to get the integer, floating-point number, or string version of a value?\n",
    "# 1.int()\n",
    "# 2.float()\n",
    "# 3.str()"
   ]
  },
  {
   "cell_type": "code",
   "execution_count": null,
   "id": "7daa504b",
   "metadata": {},
   "outputs": [],
   "source": [
    "# 10. Why does this expression cause an error? How can you fix it?\n",
    "# 'I have eaten ' + 99 + ' burritos.'->Not foloowing python syntax 99 is not a string so can,t concatenate\n",
    "#'I have eaten ' + '99' + ' burritos.'-->convert int into string\n"
   ]
  }
 ],
 "metadata": {
  "kernelspec": {
   "display_name": "Python 3 (ipykernel)",
   "language": "python",
   "name": "python3"
  },
  "language_info": {
   "codemirror_mode": {
    "name": "ipython",
    "version": 3
   },
   "file_extension": ".py",
   "mimetype": "text/x-python",
   "name": "python",
   "nbconvert_exporter": "python",
   "pygments_lexer": "ipython3",
   "version": "3.9.12"
  }
 },
 "nbformat": 4,
 "nbformat_minor": 5
}
