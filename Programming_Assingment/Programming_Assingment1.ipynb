{
 "cells": [
  {
   "cell_type": "code",
   "execution_count": 1,
   "id": "6efeb171",
   "metadata": {},
   "outputs": [],
   "source": [
    "# 1.\tWrite a Python program to print \"Hello Python\"?\n",
    "# 2.\tWrite a Python program to do arithmetical operations addition and division.?\n",
    "# 3.\tWrite a Python program to find the area of a triangle?\n",
    "# 4.\tWrite a Python program to swap two variables?\n",
    "# 5.\tWrite a Python program to generate a random number?\n"
   ]
  },
  {
   "cell_type": "code",
   "execution_count": 2,
   "id": "ec10a571",
   "metadata": {},
   "outputs": [
    {
     "name": "stdout",
     "output_type": "stream",
     "text": [
      "hello Python\n"
     ]
    }
   ],
   "source": [
    "# 1.\tWrite a Python program to print \"Hello Python\"?\n",
    "print(\"hello Python\")"
   ]
  },
  {
   "cell_type": "code",
   "execution_count": 3,
   "id": "ad435d73",
   "metadata": {},
   "outputs": [
    {
     "name": "stdout",
     "output_type": "stream",
     "text": [
      "Enter A10\n",
      "Enter B5\n",
      "15\n",
      "2.0\n"
     ]
    }
   ],
   "source": [
    "# 2.\tWrite a Python program to do arithmetical operations addition and division.?\n",
    "a=int(input(\"Enter A\"))\n",
    "b=int(input(\"Enter B\"))\n",
    "print(a+b)\n",
    "print(a/b)"
   ]
  },
  {
   "cell_type": "code",
   "execution_count": 5,
   "id": "d1397e74",
   "metadata": {},
   "outputs": [
    {
     "name": "stdout",
     "output_type": "stream",
     "text": [
      "Enter base10\n",
      "Enter Height5\n",
      "25.0\n"
     ]
    }
   ],
   "source": [
    "# 3.\tWrite a Python program to find the area of a triangle?\n",
    "def area(a,b):\n",
    "    return (0.5*a*b)\n",
    "a=int(input(\"Enter base\"))\n",
    "b=int(input(\"Enter Height\"))\n",
    "print(area(a,b))\n"
   ]
  },
  {
   "cell_type": "code",
   "execution_count": 6,
   "id": "8fc36d0e",
   "metadata": {},
   "outputs": [
    {
     "name": "stdout",
     "output_type": "stream",
     "text": [
      "(2, 1)\n"
     ]
    }
   ],
   "source": [
    "# 4.\tWrite a Python program to swap two variables?\n",
    "def swap(a,b):\n",
    "    a=a+b\n",
    "    b=a-b\n",
    "    a=a-b\n",
    "    return a,b\n",
    "print(swap(1,2))"
   ]
  },
  {
   "cell_type": "code",
   "execution_count": 7,
   "id": "2fe4d14d",
   "metadata": {},
   "outputs": [
    {
     "name": "stdout",
     "output_type": "stream",
     "text": [
      "2\n",
      "9\n",
      "1\n",
      "4\n",
      "1\n",
      "7\n",
      "7\n",
      "7\n",
      "10\n",
      "6\n"
     ]
    }
   ],
   "source": [
    "# 5.\tWrite a Python program to generate a random number?\n",
    "from random import seed\n",
    "from random import randint\n",
    "# seed random number generator\n",
    "seed(1)\n",
    "# generate some integers\n",
    "for _ in range(10):\n",
    "    value = randint(0, 10)\n",
    "    print(value)"
   ]
  },
  {
   "cell_type": "code",
   "execution_count": null,
   "id": "e18d5789",
   "metadata": {},
   "outputs": [],
   "source": []
  }
 ],
 "metadata": {
  "kernelspec": {
   "display_name": "Python 3 (ipykernel)",
   "language": "python",
   "name": "python3"
  },
  "language_info": {
   "codemirror_mode": {
    "name": "ipython",
    "version": 3
   },
   "file_extension": ".py",
   "mimetype": "text/x-python",
   "name": "python",
   "nbconvert_exporter": "python",
   "pygments_lexer": "ipython3",
   "version": "3.9.12"
  }
 },
 "nbformat": 4,
 "nbformat_minor": 5
}
