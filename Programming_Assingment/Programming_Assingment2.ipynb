{
 "cells": [
  {
   "cell_type": "code",
   "execution_count": 2,
   "id": "d235ca75",
   "metadata": {},
   "outputs": [],
   "source": [
    "# 1.\tWrite a Python program to convert kilometers to miles?\n",
    "# 2.\tWrite a Python program to convert Celsius to Fahrenheit?\n",
    "# 3.\tWrite a Python program to display calendar?\n",
    "# 4.\tWrite a Python program to solve quadratic equation?\n",
    "# 5.\tWrite a Python program to swap two variables without temp variable?"
   ]
  },
  {
   "cell_type": "code",
   "execution_count": 3,
   "id": "6b777788",
   "metadata": {},
   "outputs": [
    {
     "name": "stdout",
     "output_type": "stream",
     "text": [
      "Enter distance in KM10\n",
      "Distance in Mile are 6.213712\n"
     ]
    }
   ],
   "source": [
    "# 1.\tWrite a Python program to convert kilometers to miles?\n",
    "n=int(input(\"Enter distance in KM\"))\n",
    "print(\"Distance in Mile are\",n*0.6213712)"
   ]
  },
  {
   "cell_type": "code",
   "execution_count": 8,
   "id": "62f08f44",
   "metadata": {},
   "outputs": [
    {
     "name": "stdout",
     "output_type": "stream",
     "text": [
      "Enter distance in KM13\n",
      "Distance in Mile are 55.400000000000006\n"
     ]
    }
   ],
   "source": [
    "# 2.\tWrite a Python program to convert Celsius to Fahrenheit?\n",
    "n=int(input(\"Enter Temperature in C\"))\n",
    "print(\"Temperature in F\",(n*(9/5))+32)"
   ]
  },
  {
   "cell_type": "code",
   "execution_count": 9,
   "id": "4e633d64",
   "metadata": {},
   "outputs": [
    {
     "name": "stdout",
     "output_type": "stream",
     "text": [
      "Enter year: 1999\n",
      "Enter month: 12\n",
      "   December 1999\n",
      "Mo Tu We Th Fr Sa Su\n",
      "       1  2  3  4  5\n",
      " 6  7  8  9 10 11 12\n",
      "13 14 15 16 17 18 19\n",
      "20 21 22 23 24 25 26\n",
      "27 28 29 30 31\n",
      "\n"
     ]
    }
   ],
   "source": [
    "# 3.\tWrite a Python program to display calendar?\n",
    "import calendar\n",
    "# To take month and year input from the user\n",
    "yy = int(input(\"Enter year: \"))\n",
    "mm = int(input(\"Enter month: \"))\n",
    "\n",
    "# display the calendar\n",
    "print(calendar.month(yy, mm))"
   ]
  },
  {
   "cell_type": "code",
   "execution_count": 10,
   "id": "7374839a",
   "metadata": {},
   "outputs": [
    {
     "name": "stdout",
     "output_type": "stream",
     "text": [
      "Enter A: 1\n",
      "Enter B: 2\n",
      "Enter C: 3\n",
      "Root of equation are(-1+1.4142135623730951j),(-1-1.4142135623730951j)\n"
     ]
    }
   ],
   "source": [
    "# 4.\tWrite a Python program to solve quadratic equation?\n",
    "# Solve the quadratic equation ax**2 + bx + c = 0\n",
    "\n",
    "import cmath\n",
    "\n",
    "a = int(input(\"Enter A: \"))\n",
    "b = int(input(\"Enter B: \"))\n",
    "c = int(input(\"Enter C: \"))\n",
    "\n",
    "d=(b**2)-(4*a*c)\n",
    "\n",
    "sol1=(-b+cmath.sqrt(d))/(2*a)\n",
    "sol2=(-b-cmath.sqrt(d))/(2*a)\n",
    "print(\"Root of equation are{0},{1}\".format(sol1,sol2))\n"
   ]
  },
  {
   "cell_type": "code",
   "execution_count": 11,
   "id": "7990b2a1",
   "metadata": {},
   "outputs": [
    {
     "name": "stdout",
     "output_type": "stream",
     "text": [
      "(2, 1)\n"
     ]
    }
   ],
   "source": [
    "# 5.\tWrite a Python program to swap two variables without temp variable?\n",
    "def swap(a,b):\n",
    "    a=a+b\n",
    "    b=a-b\n",
    "    a=a-b\n",
    "    return a,b\n",
    "print(swap(1,2))"
   ]
  },
  {
   "cell_type": "code",
   "execution_count": null,
   "id": "de7c06e3",
   "metadata": {},
   "outputs": [],
   "source": []
  }
 ],
 "metadata": {
  "kernelspec": {
   "display_name": "Python 3 (ipykernel)",
   "language": "python",
   "name": "python3"
  },
  "language_info": {
   "codemirror_mode": {
    "name": "ipython",
    "version": 3
   },
   "file_extension": ".py",
   "mimetype": "text/x-python",
   "name": "python",
   "nbconvert_exporter": "python",
   "pygments_lexer": "ipython3",
   "version": "3.9.12"
  }
 },
 "nbformat": 4,
 "nbformat_minor": 5
}
