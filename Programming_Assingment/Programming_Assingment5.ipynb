{
 "cells": [
  {
   "cell_type": "code",
   "execution_count": 1,
   "id": "3b38d9bf",
   "metadata": {},
   "outputs": [],
   "source": [
    "# 1.\tWrite a Python Program to Find LCM?\n",
    "# 2.\tWrite a Python Program to Find HCF?\n",
    "# 3.\tWrite a Python Program to Convert Decimal to Binary, Octal and Hexadecimal?\n",
    "# 4.\tWrite a Python Program To Find ASCII value of a character?\n",
    "# 5.\tWrite a Python Program to Make a Simple Calculator with 4 basic mathematical operations?\n"
   ]
  },
  {
   "cell_type": "code",
   "execution_count": 4,
   "id": "c13c32fe",
   "metadata": {},
   "outputs": [
    {
     "name": "stdout",
     "output_type": "stream",
     "text": [
      "Enter first number5\n",
      "Enter Second number2\n",
      "10\n"
     ]
    }
   ],
   "source": [
    "# 1.\tWrite a Python Program to Find LCM?\n",
    "a=int(input(\"Enter first number\"))\n",
    "b=int(input(\"Enter Second number\"))\n",
    "aa=set()\n",
    "bb=set()\n",
    "temp=1\n",
    "temp1=1\n",
    "for i in range(1,30):\n",
    "    temp=i*a\n",
    "    temp1=i*b\n",
    "    aa.add(temp)\n",
    "    bb.add(temp1)\n",
    "    \n",
    "aa=aa.intersection(bb)\n",
    "li=list(aa)\n",
    "li.sort()\n",
    "print(li[0])"
   ]
  },
  {
   "cell_type": "code",
   "execution_count": 8,
   "id": "9cca4818",
   "metadata": {},
   "outputs": [
    {
     "name": "stdout",
     "output_type": "stream",
     "text": [
      "Enter first number10\n",
      "Enter Second number20\n",
      "hcf found 10\n"
     ]
    }
   ],
   "source": [
    "# 2.\tWrite a Python Program to Find HCF?\n",
    "a=int(input(\"Enter first number\"))\n",
    "b=int(input(\"Enter Second number\"))\n",
    "if(a>b):\n",
    "    large=a\n",
    "    small=b\n",
    "else:\n",
    "    small=a\n",
    "    large=b\n",
    "hcf=0\n",
    "for i in range(1,small+1):\n",
    "    if(large%i==0 and small%i==0):\n",
    "           hcf=i\n",
    "if(hcf==0):\n",
    "    print(\"no hcf found\")\n",
    "else:\n",
    "    print(\"hcf found\",hcf)\n",
    "    "
   ]
  },
  {
   "cell_type": "code",
   "execution_count": null,
   "id": "492e0a90",
   "metadata": {},
   "outputs": [
    {
     "name": "stdout",
     "output_type": "stream",
     "text": [
      "Enter first number10\n",
      "Enter Second number10\n",
      "1.add 2.sub 3.mult 4.devide1\n",
      "20\n",
      "Enter first number10\n",
      "Enter Second number10\n",
      "1.add 2.sub 3.mult 4.devide2\n",
      "0\n",
      "Enter first number10\n",
      "Enter Second number10\n",
      "1.add 2.sub 3.mult 4.devide3\n",
      "100\n",
      "Enter first number10\n",
      "Enter Second number10\n",
      "1.add 2.sub 3.mult 4.devide4\n",
      "1.0\n"
     ]
    }
   ],
   "source": [
    "# 5.\tWrite a Python Program to Make a Simple Calculator with 4 basic mathematical operations?\n",
    "while True:\n",
    "    a=int(input(\"Enter first number\"))\n",
    "    b=int(input(\"Enter Second number\"))\n",
    "    ch=input(\"1.add 2.sub 3.mult 4.devide\")\n",
    "    if(ch=='1'):\n",
    "        print(a+b)\n",
    "    elif(ch=='2'):\n",
    "        print(a-b)\n",
    "    elif(ch=='3'):\n",
    "        print(a*b)\n",
    "    elif(ch=='4'):\n",
    "        print(a/b)\n",
    "    "
   ]
  },
  {
   "cell_type": "code",
   "execution_count": 6,
   "id": "3cec63cf",
   "metadata": {
    "scrolled": true
   },
   "outputs": [
    {
     "name": "stdout",
     "output_type": "stream",
     "text": [
      "enter a letter for which you want to find ascii1\n",
      "The letter: 1 and ASCII: 49\n"
     ]
    }
   ],
   "source": [
    "# 4.\tWrite a Python Program To Find ASCII value of a character?\n",
    "a=input(\"enter a letter for which you want to find ascii\")\n",
    "print(\"The letter: {0} and ASCII: {1}\".format(a,ord(a)))"
   ]
  },
  {
   "cell_type": "code",
   "execution_count": 1,
   "id": "75b59e62",
   "metadata": {},
   "outputs": [
    {
     "ename": "SyntaxError",
     "evalue": "invalid syntax (1960673875.py, line 12)",
     "output_type": "error",
     "traceback": [
      "\u001b[1;36m  Input \u001b[1;32mIn [1]\u001b[1;36m\u001b[0m\n\u001b[1;33m    goto pass\u001b[0m\n\u001b[1;37m         ^\u001b[0m\n\u001b[1;31mSyntaxError\u001b[0m\u001b[1;31m:\u001b[0m invalid syntax\n"
     ]
    }
   ],
   "source": [
    "# 3.\tWrite a Python Program to Convert Decimal to Binary, Octal and Hexadecimal?\n",
    "while True:\n",
    "    a=int(input(\"Enter first number\"))\n",
    "    ch=input(\"1.Binary 2.Octal 3.Hexadecimal 4.stop\")\n",
    "    if(ch=='1'):\n",
    "        print(bin(a))\n",
    "    elif(ch=='2'):\n",
    "        print(oct(a))\n",
    "    elif(ch=='3'):\n",
    "        print(hex(a))\n",
    "    elif(ch==4):\n",
    "        pass\n",
    "def test():\n",
    "    pass"
   ]
  },
  {
   "cell_type": "code",
   "execution_count": null,
   "id": "f766c223",
   "metadata": {},
   "outputs": [],
   "source": []
  }
 ],
 "metadata": {
  "kernelspec": {
   "display_name": "Python 3 (ipykernel)",
   "language": "python",
   "name": "python3"
  },
  "language_info": {
   "codemirror_mode": {
    "name": "ipython",
    "version": 3
   },
   "file_extension": ".py",
   "mimetype": "text/x-python",
   "name": "python",
   "nbconvert_exporter": "python",
   "pygments_lexer": "ipython3",
   "version": "3.9.12"
  }
 },
 "nbformat": 4,
 "nbformat_minor": 5
}
