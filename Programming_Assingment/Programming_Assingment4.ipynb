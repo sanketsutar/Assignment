{
 "cells": [
  {
   "cell_type": "code",
   "execution_count": 2,
   "id": "1e894972",
   "metadata": {},
   "outputs": [],
   "source": [
    "# 1.\tWrite a Python Program to Find the Factorial of a Number?\n",
    "# 2.\tWrite a Python Program to Display the multiplication Table?\n",
    "# 3.\tWrite a Python Program to Print the Fibonacci sequence?\n",
    "# 4.\tWrite a Python Program to Check Armstrong Number?\n",
    "# 5.\tWrite a Python Program to Find Armstrong Number in an Interval?\n",
    "# 6.\tWrite a Python Program to Find the Sum of Natural Numbers?\n"
   ]
  },
  {
   "cell_type": "code",
   "execution_count": 5,
   "id": "c0a1e2b2",
   "metadata": {},
   "outputs": [
    {
     "name": "stdout",
     "output_type": "stream",
     "text": [
      "Enter the number5\n",
      "120\n"
     ]
    }
   ],
   "source": [
    "# 1.\tWrite a Python Program to Find the Factorial of a Number?\n",
    "n=int(input(\"Enter the number\"))\n",
    "fact=1\n",
    "while(n>0):\n",
    "    fact=fact*n\n",
    "    n=n-1\n",
    "print(fact)"
   ]
  },
  {
   "cell_type": "code",
   "execution_count": 8,
   "id": "8c2685e6",
   "metadata": {},
   "outputs": [
    {
     "name": "stdout",
     "output_type": "stream",
     "text": [
      "Enter the number11\n",
      "11\n",
      "22\n",
      "33\n",
      "44\n",
      "55\n",
      "66\n",
      "77\n",
      "88\n",
      "99\n",
      "110\n"
     ]
    }
   ],
   "source": [
    "# 2.\tWrite a Python Program to Display the multiplication Table?\n",
    "n=int(input(\"Enter the number\"))\n",
    "for i in range(1,11):\n",
    "    print(n*i)"
   ]
  },
  {
   "cell_type": "code",
   "execution_count": 2,
   "id": "f3cfd4c2",
   "metadata": {},
   "outputs": [
    {
     "name": "stdout",
     "output_type": "stream",
     "text": [
      "Enter the number of series7\n",
      "1\n",
      "1\n",
      "2\n",
      "3\n",
      "5\n",
      "8\n",
      "13\n",
      "21\n"
     ]
    }
   ],
   "source": [
    "# 3.\tWrite a Python Program to Print the Fibonacci sequence?\n",
    "#1 1 2 3 5 8 13\n",
    "n=int(input(\"Enter the number of series\"))\n",
    "a,b=1,1\n",
    "print(a)\n",
    "print(b)\n",
    "for i in range(0,n-1):\n",
    "    c=a+b\n",
    "    print(c)\n",
    "    a=b\n",
    "    b=c"
   ]
  },
  {
   "cell_type": "code",
   "execution_count": 4,
   "id": "3df1a15f",
   "metadata": {},
   "outputs": [
    {
     "name": "stdout",
     "output_type": "stream",
     "text": [
      "number upto which need to print sum of natural number3\n",
      "6\n"
     ]
    }
   ],
   "source": [
    "# 6.\tWrite a Python Program to Find the Sum of Natural Numbers?\n",
    "n=int(input(\"number upto which need to print sum of natural number\"))\n",
    "sum=0\n",
    "for i in range(0,n+1):\n",
    "    sum=sum+i\n",
    "print(sum)"
   ]
  },
  {
   "cell_type": "code",
   "execution_count": 18,
   "id": "ebce5d7e",
   "metadata": {},
   "outputs": [
    {
     "name": "stdout",
     "output_type": "stream",
     "text": [
      "enter the number153\n",
      "Armstrong number\n"
     ]
    }
   ],
   "source": [
    "# 4. Write a Python Program to Check Armstrong Number?\n",
    "n=input(\"enter the number\")\n",
    "temp=0\n",
    "for i in range(0,len(n)):\n",
    "    temp=temp+int(n[i])**3\n",
    "if(temp==int(n)):\n",
    "    print(\"Armstrong number\")\n",
    "else:\n",
    "    print(\"Not Armstrong\")"
   ]
  },
  {
   "cell_type": "code",
   "execution_count": 21,
   "id": "4c15a67b",
   "metadata": {},
   "outputs": [
    {
     "name": "stdout",
     "output_type": "stream",
     "text": [
      "Enter the series upto ypu need armstrong no500\n",
      "0 Armstrong number\n",
      "1 Armstrong number\n",
      "153 Armstrong number\n",
      "370 Armstrong number\n",
      "371 Armstrong number\n",
      "407 Armstrong number\n"
     ]
    }
   ],
   "source": [
    "n=int(input(\"Enter the series upto ypu need armstrong no\"))\n",
    "for i in range(0,n+1):\n",
    "    temp=0\n",
    "    i=str(i)\n",
    "    for j in range(0,len(i)):\n",
    "        temp=temp+int(i[j])**3\n",
    "    if(temp==int(i)):\n",
    "        print(i,\"Armstrong number\")\n",
    "    "
   ]
  },
  {
   "cell_type": "code",
   "execution_count": null,
   "id": "54a3428a",
   "metadata": {},
   "outputs": [],
   "source": []
  }
 ],
 "metadata": {
  "kernelspec": {
   "display_name": "Python 3 (ipykernel)",
   "language": "python",
   "name": "python3"
  },
  "language_info": {
   "codemirror_mode": {
    "name": "ipython",
    "version": 3
   },
   "file_extension": ".py",
   "mimetype": "text/x-python",
   "name": "python",
   "nbconvert_exporter": "python",
   "pygments_lexer": "ipython3",
   "version": "3.9.12"
  }
 },
 "nbformat": 4,
 "nbformat_minor": 5
}
