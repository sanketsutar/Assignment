{
 "cells": [
  {
   "cell_type": "code",
   "execution_count": 1,
   "id": "8190c5c5",
   "metadata": {},
   "outputs": [],
   "source": [
    "# 1.\tWrite a Python Program to Check if a Number is Positive, Negative or Zero?\n",
    "# 2.\tWrite a Python Program to Check if a Number is Odd or Even?\n",
    "# 3.\tWrite a Python Program to Check Leap Year?\n",
    "# 4.\tWrite a Python Program to Check Prime Number?\n",
    "# 5.\tWrite a Python Program to Print all Prime Numbers in an Interval of 1-10000?"
   ]
  },
  {
   "cell_type": "code",
   "execution_count": 6,
   "id": "46596f17",
   "metadata": {},
   "outputs": [
    {
     "name": "stdout",
     "output_type": "stream",
     "text": [
      "enter the number0\n",
      "Number is Zero\n"
     ]
    }
   ],
   "source": [
    "# 1.\tWrite a Python Program to Check if a Number is Positive, Negative or Zero?\n",
    "n=int(input(\"enter the number\"))\n",
    "if(n>0):\n",
    "    print(\"Positive Number\")\n",
    "elif(n<0):\n",
    "    print(\"Negative Number\")\n",
    "else:\n",
    "    print(\"Number is Zero\")"
   ]
  },
  {
   "cell_type": "code",
   "execution_count": 14,
   "id": "6e33498a",
   "metadata": {},
   "outputs": [
    {
     "name": "stdout",
     "output_type": "stream",
     "text": [
      "enter number0\n",
      "Even Number\n"
     ]
    }
   ],
   "source": [
    "# 2.\tWrite a Python Program to Check if a Number is Odd or Even?\n",
    "n=int(input(\"enter number\"))\n",
    "if(n%2==0):\n",
    "    print(\"Even Number\")\n",
    "else:\n",
    "    print(\"number is odd\")"
   ]
  },
  {
   "cell_type": "code",
   "execution_count": 5,
   "id": "cef78e77",
   "metadata": {},
   "outputs": [
    {
     "name": "stdout",
     "output_type": "stream",
     "text": [
      "enter input1900\n",
      "Normal year\n"
     ]
    }
   ],
   "source": [
    "# 3.\tWrite a Python Program to Check Leap Year?\n",
    "n=int(input(\"enter input\"))\n",
    "if(n%4==0 and n%100!=0 ):\n",
    "    print(\"leap year\")\n",
    "else:\n",
    "    if(n%400==0):\n",
    "        print(\"leap year\")\n",
    "    else:\n",
    "        print(\"Normal year\")"
   ]
  },
  {
   "cell_type": "code",
   "execution_count": 11,
   "id": "17ea9f16",
   "metadata": {},
   "outputs": [
    {
     "name": "stdout",
     "output_type": "stream",
     "text": [
      "enter the number15\n",
      "Not Prime\n"
     ]
    }
   ],
   "source": [
    "# 4.\tWrite a Python Program to Check Prime Number?\n",
    "n=int(input(\"enter the number\"))\n",
    "i=n-1\n",
    "flag=0\n",
    "while(i>1):\n",
    "    if(n%i)==0:\n",
    "        flag=1\n",
    "    i=i-1\n",
    "if(flag==1):\n",
    "    print(\"Not Prime\")\n",
    "else:\n",
    "    print(\"Prime\")"
   ]
  },
  {
   "cell_type": "code",
   "execution_count": 24,
   "id": "b57dfb9b",
   "metadata": {},
   "outputs": [
    {
     "name": "stdout",
     "output_type": "stream",
     "text": [
      "2\n",
      "3\n",
      "5\n",
      "7\n",
      "11\n",
      "13\n",
      "17\n",
      "19\n",
      "23\n",
      "29\n",
      "31\n",
      "37\n",
      "41\n",
      "43\n",
      "47\n",
      "53\n",
      "59\n",
      "61\n",
      "67\n",
      "71\n",
      "73\n",
      "79\n",
      "83\n",
      "89\n",
      "97\n"
     ]
    }
   ],
   "source": [
    "# 5.\tWrite a Python Program to Print all Prime Numbers in an Interval of 1-10000?\n",
    "# li=list(range(1,10001))\n",
    "li=list(range(2,100))\n",
    "\n",
    "for i in li:\n",
    "    flag=0\n",
    "    for k in range(2,i):\n",
    "        \n",
    "        if(i%k)==0:\n",
    "            flag=1\n",
    "#     if(flag==1):\n",
    "#         print(i,\"Not Prime\")\n",
    "#     else:\n",
    "#         print(i,\"Prime\")\n",
    "    if(flag==0):\n",
    "        print(i)\n",
    "        "
   ]
  },
  {
   "cell_type": "code",
   "execution_count": null,
   "id": "6e7b62ff",
   "metadata": {},
   "outputs": [],
   "source": []
  }
 ],
 "metadata": {
  "kernelspec": {
   "display_name": "Python 3 (ipykernel)",
   "language": "python",
   "name": "python3"
  },
  "language_info": {
   "codemirror_mode": {
    "name": "ipython",
    "version": 3
   },
   "file_extension": ".py",
   "mimetype": "text/x-python",
   "name": "python",
   "nbconvert_exporter": "python",
   "pygments_lexer": "ipython3",
   "version": "3.9.12"
  }
 },
 "nbformat": 4,
 "nbformat_minor": 5
}
